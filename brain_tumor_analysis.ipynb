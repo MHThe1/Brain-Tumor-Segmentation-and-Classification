{
  "cells": [
    {
      "cell_type": "markdown",
      "metadata": {},
      "source": [
        "# Brain Tumor Segmentation and Classification\n",
        "## BRACU CSE428 Academic Project\n",
        "\n",
        "This notebook implements:\n",
        "1. U-Net architecture for brain tumor segmentation\n",
        "2. Classification head for tumor type classification\n",
        "3. Attention U-Net implementation\n",
        "4. Multi-task learning (segmentation + classification)\n",
        "5. Performance analysis and comparison\n",
        "\n",
        "**Dataset**: BRISC2025 Brain Tumor Dataset\n",
        "**Tasks**: Segmentation and Classification\n",
        "**Classes**: Glioma, Meningioma, No Tumor, Pituitary\n"
      ]
    },
    {
      "cell_type": "code",
      "execution_count": 1,
      "metadata": {},
      "outputs": [
        {
          "name": "stdout",
          "output_type": "stream",
          "text": [
            "Project initialized with timestamp: 20250906_083051\n",
            "Output directory: f:\\Programming\\BRACU\\CSE428\\Project\\outputs\\run_20250906_083051\n",
            "TensorFlow version: 2.20.0\n",
            "GPU available: []\n",
            "Project initialized with timestamp: 20250906_083051\n",
            "Output directory: f:\\Programming\\BRACU\\CSE428\\Project\\outputs\\run_20250906_083051\n"
          ]
        }
      ],
      "source": [
        "# Import necessary libraries\n",
        "import os\n",
        "import sys\n",
        "import numpy as np\n",
        "import pandas as pd\n",
        "import matplotlib.pyplot as plt\n",
        "import seaborn as sns\n",
        "import tensorflow as tf\n",
        "from tensorflow.keras import layers, Model\n",
        "from tensorflow.keras.optimizers import Adam\n",
        "from tensorflow.keras.callbacks import ModelCheckpoint, EarlyStopping, ReduceLROnPlateau\n",
        "import cv2\n",
        "from sklearn.metrics import classification_report, confusion_matrix\n",
        "import json\n",
        "from datetime import datetime\n",
        "import warnings\n",
        "warnings.filterwarnings('ignore')\n",
        "\n",
        "# Set random seeds for reproducibility\n",
        "np.random.seed(42)\n",
        "tf.random.set_seed(42)\n",
        "\n",
        "# Import project modules\n",
        "from config import *\n",
        "from utils import *\n",
        "from data_loader import BrainTumorDataLoader\n",
        "from models import UNet, AttentionUNet, MultiTaskUNet, ClassifierModels\n",
        "\n",
        "print(f\"TensorFlow version: {tf.__version__}\")\n",
        "print(f\"GPU available: {tf.config.list_physical_devices('GPU')}\")\n",
        "print(f\"Project initialized with timestamp: {TIMESTAMP}\")\n",
        "print(f\"Output directory: {RUN_OUTPUT_DIR}\")\n"
      ]
    }
  ],
  "metadata": {
    "kernelspec": {
      "display_name": "venv",
      "language": "python",
      "name": "python3"
    },
    "language_info": {
      "codemirror_mode": {
        "name": "ipython",
        "version": 3
      },
      "file_extension": ".py",
      "mimetype": "text/x-python",
      "name": "python",
      "nbconvert_exporter": "python",
      "pygments_lexer": "ipython3",
      "version": "3.11.9"
    }
  },
  "nbformat": 4,
  "nbformat_minor": 2
}
